{
 "cells": [
  {
   "cell_type": "markdown",
   "metadata": {},
   "source": [
    "# 爬蟲"
   ]
  },
  {
   "cell_type": "code",
   "execution_count": 1,
   "metadata": {},
   "outputs": [
    {
     "name": "stdout",
     "output_type": "stream",
     "text": [
      "\n",
      "[食記] 台北 遼寧街夜市 冇冇有麵擔\n",
      " savvik\n",
      "\n",
      "[食記] 台北 Petit Doux微兜光復店\n",
      " minglong1985\n",
      "\n",
      "[食記] 高雄 - 排隊雞白湯拉麵 Ramen初ui\n",
      " linche\n",
      "\n",
      "[食記] 台南 樂翻天百元火鍋-崑大對面平價環境好\n",
      " vhygdih\n",
      "\n",
      "[食記]台北 108抹茶茶廊「宇治金時抹茶刨冰」\n",
      " uwxuwx\n",
      "\n",
      "[廣宣] 台北 不想回家 寧靜巷弄中的美式早午餐\n",
      " ainycka0815\n",
      "\n",
      "Fw: [食記][高雄市] Conway's 英國小館\n",
      " JeremyKSKGA\n",
      "\n",
      "[食記] 台北101第35樓滿藝廚房:想讓你吃得滿意!\n",
      " rf73\n",
      "\n",
      "[食記] 台中 大德街烤玉米：小朋友也愛吃老味道\n",
      " maggie024\n",
      "\n",
      "[食記] 台中西屯 Mamak檔星馬料理\n",
      " GaryWu29a\n",
      "\n",
      "[食記] 新北泰山。港龘港式飲茶歐式自助百匯\n",
      " angelshao\n",
      "\n",
      "[食記] 嘉義-林記新加坡料理│12小時燉煮肉骨茶\n",
      " kielkiel\n",
      "\n",
      "[食記] 台北松山 萬華仙草冰(八德店)\n",
      " kenwhitney\n",
      "\n",
      "[食記] つじ半 微風信義店\n",
      " yuan2734\n",
      "\n",
      "[食記] 台北 穆記牛肉麵 | 一間矛盾的牛肉麵店\n",
      " mimimibow\n",
      "\n",
      "[食記] 台北松山區。富錦樹日食香檳\n",
      " larle\n",
      "\n",
      "[食記] 新北 型男鵝肉2018年：終於吃到了！\n",
      " KUNI0202\n",
      "\n",
      "[公告] Food板 板規 V3.91\n",
      " Dilbert\n",
      "\n",
      "[公告] 發文請在標題加上地區及提供地址電話。^^\n",
      " bluefish\n",
      "\n",
      "[公告] 文章被刪除者請洽精華區的資源回收桶\n",
      " Dilbert\n",
      "\n",
      "[公告] 新增板規22：發文禁附延伸閱讀連結\n",
      " Dilbert\n"
     ]
    }
   ],
   "source": [
    "import requests\n",
    "from bs4 import BeautifulSoup\n",
    "res = requests.get('https://www.ptt.cc/bbs/Food/')\n",
    "soup = BeautifulSoup(res.text,'lxml')\n",
    "for item in soup.select(\".r-ent\"):\n",
    "    print(item.select(\".title\")[0].text, item.select(\".author\")[0].text)"
   ]
  },
  {
   "cell_type": "markdown",
   "metadata": {},
   "source": [
    "# 讀取即時 PM2.5 資訊"
   ]
  },
  {
   "cell_type": "code",
   "execution_count": 2,
   "metadata": {},
   "outputs": [
    {
     "name": "stdout",
     "output_type": "stream",
     "text": [
      "data is a <class 'list'>\n",
      "data[0] is a <class 'dict'>\n",
      "狀況:良好 主要污染物：, PM2.5=4\n"
     ]
    }
   ],
   "source": [
    "import requests\n",
    "import json\n",
    "\n",
    "res = requests.get(\"http://opendata2.epa.gov.tw/AQX.json\")\n",
    "data = json.loads(res.text)\n",
    "print(\"data is a \"+str(type(data)))\n",
    "print(\"data[0] is a \"+str(type(data[0])))\n",
    "for kh in data:\n",
    "    if kh['County'] == '高雄市' and kh['SiteName'] == '復興':\n",
    "        print(\"狀況:\"+kh['Status']+' 主要污染物：'+kh['MajorPollutant']+\", PM2.5=\"+kh['PM2.5'])\n"
   ]
  },
  {
   "cell_type": "markdown",
   "metadata": {},
   "source": [
    "# 檔案處理"
   ]
  },
  {
   "cell_type": "code",
   "execution_count": 3,
   "metadata": {},
   "outputs": [],
   "source": [
    "def create(n):\n",
    "    for i in range(n):\n",
    "        f = open('/Users/jiangsir/Desktop/DESC_{:04d}.txt'.format(i), 'w', encoding = 'UTF-8')    # 也可使用指定路徑等方式，如： C:\\A.txt\n",
    "        f.write(\"測試文件的內容！！！\")\n",
    "        f.close()\n",
    "\n",
    "create(10)\n"
   ]
  },
  {
   "cell_type": "markdown",
   "metadata": {},
   "source": [
    "# 讀取 Excel"
   ]
  },
  {
   "cell_type": "code",
   "execution_count": 9,
   "metadata": {},
   "outputs": [
    {
     "data": {
      "text/html": [
       "<div>\n",
       "<style scoped>\n",
       "    .dataframe tbody tr th:only-of-type {\n",
       "        vertical-align: middle;\n",
       "    }\n",
       "\n",
       "    .dataframe tbody tr th {\n",
       "        vertical-align: top;\n",
       "    }\n",
       "\n",
       "    .dataframe thead th {\n",
       "        text-align: right;\n",
       "    }\n",
       "</style>\n",
       "<table border=\"1\" class=\"dataframe\">\n",
       "  <thead>\n",
       "    <tr style=\"text-align: right;\">\n",
       "      <th></th>\n",
       "      <th>編號</th>\n",
       "      <th>姓名</th>\n",
       "      <th>生日</th>\n",
       "      <th>性別</th>\n",
       "      <th>日期</th>\n",
       "    </tr>\n",
       "  </thead>\n",
       "  <tbody>\n",
       "    <tr>\n",
       "      <th>0</th>\n",
       "      <td>A0001</td>\n",
       "      <td>吳佩如</td>\n",
       "      <td>1985-06-22</td>\n",
       "      <td>男</td>\n",
       "      <td>103/04</td>\n",
       "    </tr>\n",
       "    <tr>\n",
       "      <th>1</th>\n",
       "      <td>A0002</td>\n",
       "      <td>黃啟倩</td>\n",
       "      <td>1982-03-09</td>\n",
       "      <td>女</td>\n",
       "      <td>103年4月25號</td>\n",
       "    </tr>\n",
       "    <tr>\n",
       "      <th>2</th>\n",
       "      <td>A0003</td>\n",
       "      <td>李建真</td>\n",
       "      <td>1977-11-04</td>\n",
       "      <td>女</td>\n",
       "      <td>103年4月</td>\n",
       "    </tr>\n",
       "    <tr>\n",
       "      <th>3</th>\n",
       "      <td>A0004</td>\n",
       "      <td>葉怡毓</td>\n",
       "      <td>1982-10-30</td>\n",
       "      <td>男</td>\n",
       "      <td>0103年6月25日</td>\n",
       "    </tr>\n",
       "    <tr>\n",
       "      <th>4</th>\n",
       "      <td>A0005</td>\n",
       "      <td>郭怡珊</td>\n",
       "      <td>1988-03-27</td>\n",
       "      <td>女</td>\n",
       "      <td>NaN</td>\n",
       "    </tr>\n",
       "  </tbody>\n",
       "</table>\n",
       "</div>"
      ],
      "text/plain": [
       "      編號   姓名         生日 性別          日期\n",
       "0  A0001  吳佩如 1985-06-22  男      103/04\n",
       "1  A0002  黃啟倩 1982-03-09  女   103年4月25號\n",
       "2  A0003  李建真 1977-11-04  女      103年4月\n",
       "3  A0004  葉怡毓 1982-10-30  男  0103年6月25日\n",
       "4  A0005  郭怡珊 1988-03-27  女         NaN"
      ]
     },
     "execution_count": 9,
     "metadata": {},
     "output_type": "execute_result"
    }
   ],
   "source": [
    "import os\n",
    "import matplotlib.pyplot as plt\n",
    "import pandas as pd\n",
    "%matplotlib inline\n",
    "\n",
    "df = pd.read_excel('原始資料表.xlsx', 'sheet')\n",
    "\n",
    "### 列出前幾筆資料\n",
    "df.head()"
   ]
  },
  {
   "cell_type": "markdown",
   "metadata": {},
   "source": [
    "# 文字轉語音"
   ]
  },
  {
   "cell_type": "code",
   "execution_count": 1,
   "metadata": {},
   "outputs": [],
   "source": [
    "from gtts import gTTS\n",
    "tts = gTTS(text='颱風天上課真提神！', lang='zh-tw')\n",
    "tts.save(\"ts.mp3\")\n"
   ]
  },
  {
   "cell_type": "markdown",
   "metadata": {},
   "source": [
    "# 下載 youtube 檔案"
   ]
  },
  {
   "cell_type": "code",
   "execution_count": 4,
   "metadata": {},
   "outputs": [],
   "source": [
    "from pytube import Playlist\n",
    "\n",
    "播放清單 = 'https://www.youtube.com/playlist?list=PL_UnJyWUd40ElUibCO0Gi5E10UmiOa3PR'\n",
    "\n",
    "pl = Playlist(邏輯思維第四季)\n",
    "pl.download_all('/Users/jiangsir/Downloads/邏輯思維第四季/')\n",
    "# or if you want to download in a specific directory\n",
    "#pl.download_all('/path/to/directory/')\n"
   ]
  },
  {
   "cell_type": "code",
   "execution_count": 6,
   "metadata": {},
   "outputs": [],
   "source": [
    "from pytube import YouTube\n",
    "yt = YouTube(\"https://www.youtube.com/watch?v=27ob2G3GUCQ\")\n",
    "stream = yt.streams.filter(file_extension='mp4', res='360p').first()\n",
    "stream.download(\"/Users/jiangsir/Downloads/\")\n"
   ]
  },
  {
   "cell_type": "markdown",
   "metadata": {},
   "source": [
    "# SpeechRecognition 語音辨識"
   ]
  },
  {
   "cell_type": "code",
   "execution_count": 8,
   "metadata": {},
   "outputs": [
    {
     "name": "stdout",
     "output_type": "stream",
     "text": [
      "Collecting SpeechRecognition\n",
      "  Using cached https://files.pythonhosted.org/packages/26/e1/7f5678cd94ec1234269d23756dbdaa4c8cfaed973412f88ae8adf7893a50/SpeechRecognition-3.8.1-py2.py3-none-any.whl\n",
      "Installing collected packages: SpeechRecognition\n",
      "Successfully installed SpeechRecognition-3.8.1\n"
     ]
    },
    {
     "ename": "NameError",
     "evalue": "name '__file__' is not defined",
     "output_type": "error",
     "traceback": [
      "\u001b[0;31m---------------------------------------------------------------------------\u001b[0m",
      "\u001b[0;31mNameError\u001b[0m                                 Traceback (most recent call last)",
      "\u001b[0;32m<ipython-input-8-a30514a5c95f>\u001b[0m in \u001b[0;36m<module>\u001b[0;34m()\u001b[0m\n\u001b[1;32m      8\u001b[0m \u001b[0;32mimport\u001b[0m \u001b[0mdatetime\u001b[0m\u001b[0;34m\u001b[0m\u001b[0m\n\u001b[1;32m      9\u001b[0m \u001b[0;34m\u001b[0m\u001b[0m\n\u001b[0;32m---> 10\u001b[0;31m \u001b[0mbasepath\u001b[0m \u001b[0;34m=\u001b[0m \u001b[0mos\u001b[0m\u001b[0;34m.\u001b[0m\u001b[0mpath\u001b[0m\u001b[0;34m.\u001b[0m\u001b[0mdirname\u001b[0m\u001b[0;34m(\u001b[0m\u001b[0mos\u001b[0m\u001b[0;34m.\u001b[0m\u001b[0mpath\u001b[0m\u001b[0;34m.\u001b[0m\u001b[0mrealpath\u001b[0m\u001b[0;34m(\u001b[0m\u001b[0m__file__\u001b[0m\u001b[0;34m)\u001b[0m\u001b[0;34m)\u001b[0m\u001b[0;34m\u001b[0m\u001b[0m\n\u001b[0m\u001b[1;32m     11\u001b[0m \u001b[0mmp3base\u001b[0m \u001b[0;34m=\u001b[0m \u001b[0mos\u001b[0m\u001b[0;34m.\u001b[0m\u001b[0mpath\u001b[0m\u001b[0;34m.\u001b[0m\u001b[0mjoin\u001b[0m\u001b[0;34m(\u001b[0m\u001b[0mbasepath\u001b[0m\u001b[0;34m,\u001b[0m \u001b[0;34m'mp3'\u001b[0m\u001b[0;34m)\u001b[0m\u001b[0;34m\u001b[0m\u001b[0m\n\u001b[1;32m     12\u001b[0m \u001b[0;32mif\u001b[0m \u001b[0;32mnot\u001b[0m \u001b[0mos\u001b[0m\u001b[0;34m.\u001b[0m\u001b[0mpath\u001b[0m\u001b[0;34m.\u001b[0m\u001b[0mexists\u001b[0m\u001b[0;34m(\u001b[0m\u001b[0mos\u001b[0m\u001b[0;34m.\u001b[0m\u001b[0mpath\u001b[0m\u001b[0;34m.\u001b[0m\u001b[0mdirname\u001b[0m\u001b[0;34m(\u001b[0m\u001b[0mmp3base\u001b[0m\u001b[0;34m)\u001b[0m\u001b[0;34m)\u001b[0m\u001b[0;34m:\u001b[0m\u001b[0;34m\u001b[0m\u001b[0m\n",
      "\u001b[0;31mNameError\u001b[0m: name '__file__' is not defined"
     ]
    }
   ],
   "source": [
    "!pip install SpeechRecognition\n",
    "\n",
    "import speech_recognition as sr\n",
    "from gtts import gTTS\n",
    "import sys, os, platform, time\n",
    "import pygame as pygamee\n",
    "from pypinyin import lazy_pinyin\n",
    "import datetime\n",
    "\n",
    "basepath = os.path.dirname(os.path.realpath(__file__))\n",
    "mp3base = os.path.join(basepath, 'mp3')\n",
    "if not os.path.exists(os.path.dirname(mp3base)):\n",
    "    os.makedirs(os.path.dirname(mp3base))\n",
    "\n",
    "\n",
    "r = sr.Recognizer()\n",
    "with sr.Microphone() as source:\n",
    "    audio = r.listen(source)\n",
    "\n",
    "result = r.recognize_google(audio, language='zh-TW')\n",
    "print(result)\n",
    "\n",
    "tts = gTTS(text=result, lang='zh-TW')\n",
    "filename = datetime.datetime.now().strftime('%Y%m%d%H%M%S')\n",
    "mp3path = os.path.join(mp3base, filename + \".mp3\")\n",
    "tts.save(mp3path)\n",
    "\n",
    "pygamee.mixer.init()\n",
    "print(\"load:\", mp3path)\n",
    "pygamee.mixer.music.load(mp3path)\n",
    "pygamee.time.delay(1000)\n",
    "pygamee.mixer.music.play()\n",
    "while pygamee.mixer.music.get_busy():\n",
    "    pygamee.time.Clock().tick(5)"
   ]
  },
  {
   "cell_type": "code",
   "execution_count": null,
   "metadata": {},
   "outputs": [],
   "source": []
  },
  {
   "cell_type": "code",
   "execution_count": null,
   "metadata": {},
   "outputs": [],
   "source": []
  }
 ],
 "metadata": {
  "kernelspec": {
   "display_name": "Python 3",
   "language": "python",
   "name": "python3"
  },
  "language_info": {
   "codemirror_mode": {
    "name": "ipython",
    "version": 3
   },
   "file_extension": ".py",
   "mimetype": "text/x-python",
   "name": "python",
   "nbconvert_exporter": "python",
   "pygments_lexer": "ipython3",
   "version": "3.6.4"
  }
 },
 "nbformat": 4,
 "nbformat_minor": 2
}
