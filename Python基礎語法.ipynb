{
 "cells": [
  {
   "cell_type": "markdown",
   "metadata": {
    "slideshow": {
     "slide_type": "slide"
    }
   },
   "source": [
    "# Python 基本語法\n",
    "\n",
    "Python 最特別的就是強迫縮排。\n"
   ]
  },
  {
   "cell_type": "markdown",
   "metadata": {
    "slideshow": {
     "slide_type": "slide"
    }
   },
   "source": [
    "## 基本的算數運算子"
   ]
  },
  {
   "cell_type": "code",
   "execution_count": 2,
   "metadata": {
    "slideshow": {
     "slide_type": "-"
    }
   },
   "outputs": [
    {
     "name": "stdout",
     "output_type": "stream",
     "text": [
      "8\n",
      "6\n",
      "15\n",
      "1.5\n",
      "1\n",
      "3\n",
      "1000\n",
      "14\n",
      "0.30000000000000004\n"
     ]
    }
   ],
   "source": [
    "print(3 + 5) # 加\n",
    "print(8 - 2) # 減\n",
    "print(3 * 5) # 乘\n",
    "print(3 / 2) # 除\n",
    "print(3 // 2) # 商\n",
    "print(13 % 10) # 餘\n",
    "print(10 ** 3) # 指數\n",
    "print((3 + 4) * 2) # 先乘除後加減\n",
    "print(0.1 + 0.2) # 小數點誤差\n"
   ]
  },
  {
   "cell_type": "markdown",
   "metadata": {
    "slideshow": {
     "slide_type": "slide"
    }
   },
   "source": [
    "## 基本資料型態\n",
    "\n",
    "### Python 宣告變數雖然不需要指定變數資料型態，但它仍然是強資料型態語言。\n",
    "\n",
    "* 布林(Boolean):True/False \n",
    "* 整數(Integer): 整數沒有大小限制 e.q. 2016\n",
    "* 浮點數(Float): 有小數點的數字 e.q.  3.14159\n",
    "* 字串(String): 字串 e.q. “Hello”, ‘Hello’\n",
    "\n"
   ]
  },
  {
   "cell_type": "code",
   "execution_count": 9,
   "metadata": {
    "slideshow": {
     "slide_type": "subslide"
    }
   },
   "outputs": [
    {
     "name": "stdout",
     "output_type": "stream",
     "text": [
      "<class 'int'>\n",
      "<class 'float'>\n",
      "<class 'bool'>\n",
      "<class 'str'>\n"
     ]
    }
   ],
   "source": [
    "print(type(55555))\n",
    "print(type(3.14159))\n",
    "print(type(True))\n",
    "print(type(\"Hello\"))"
   ]
  },
  {
   "cell_type": "markdown",
   "metadata": {
    "slideshow": {
     "slide_type": "subslide"
    }
   },
   "source": [
    "## 資料型態轉換\n",
    "\n",
    "轉換成整數：  \n",
    "int(3.14) = 3  # 無條件捨去  \n",
    "int(“12”) = 12 # 變成可運算的數字  \n",
    "轉換成浮點數：  \n",
    "float(“3.14”) = 3.14  \n",
    "轉換成字串：  \n",
    "str(3.14) =  \"3.14\"  \n"
   ]
  },
  {
   "cell_type": "code",
   "execution_count": 10,
   "metadata": {
    "slideshow": {
     "slide_type": "subslide"
    }
   },
   "outputs": [
    {
     "name": "stdout",
     "output_type": "stream",
     "text": [
      "3\n",
      "12\n",
      "3.1415926\n",
      "3.1415926\n"
     ]
    }
   ],
   "source": [
    "print(int(3.1415926)) # 從浮點數轉換到整數會造成誤差。\n",
    "print(int(\"12\"))\n",
    "print(float(\"3.1415926\"))\n",
    "print(str(3.1415926))"
   ]
  },
  {
   "cell_type": "markdown",
   "metadata": {
    "slideshow": {
     "slide_type": "slide"
    }
   },
   "source": [
    "## 字串處理\n",
    "\n",
    "在 Python 中，使用單引號（'）或雙引號（\"）包起來的資料都是字串。然而，以單引號包起來的字串，如果在字串資料中遇到單引號時，則必須以 \\ 來跳脫（escape）處理，避免被誤認為字串結束。\n"
   ]
  },
  {
   "cell_type": "code",
   "execution_count": 12,
   "metadata": {
    "slideshow": {
     "slide_type": "subslide"
    }
   },
   "outputs": [
    {
     "name": "stdout",
     "output_type": "stream",
     "text": [
      "I'm Sorry.\n",
      "print(\"Hello\")\n",
      "print(\"I'm Sorry.\")\n",
      "顯示反斜線 \\\n",
      "C:\\Documents and Settings\\ericsk\\test.dat\n",
      "HelloBeauty\n",
      "Hello world 2016\n",
      "Hello Beauty Beauty Beauty\n",
      "Hello Beauty Beauty Beautys 的長度= 26\n"
     ]
    }
   ],
   "source": [
    "print(\"I'm Sorry.\") #  可以顯示 '\n",
    "print('print(\"Hello\")') #  可以顯示 \"\n",
    "print(\"print(\\\"I'm Sorry.\\\")\") # 用反斜線(Escape字元)顯示 \"\n",
    "print(\"顯示反斜線 \\\\\") # 顯示反斜線\n",
    "print('C:\\\\Documents and Settings\\\\ericsk\\\\test.dat') # windows 路徑\n",
    "print(\"Hello\" + \"Beauty\") # 用 + 串接字串\n",
    "print(\"Hello\", \"world\", 2016) # 串接！不同資料形態的串接\n",
    "s = \"Hello\" + \" Beauty\"*3 # 字串重複\n",
    "print(s)\n",
    "print(s, end='') # 字尾不換行\n",
    "print(\"s 的長度=\", len(s)) #字串長度 字串串數字用 , \n"
   ]
  },
  {
   "cell_type": "markdown",
   "metadata": {
    "slideshow": {
     "slide_type": "slide"
    }
   },
   "source": [
    "## 取得子字串\n",
    "\n",
    "Python 字串編號圖示：\n",
    "\n",
    "\n",
    "![Alt text](substring.png)\n",
    "\n",
    "\n",
    "幾個子字串常見的寫法： \n",
    "* :冒號前的 INDEX 省略代表從 0 開始。\n",
    "* :冒號後的 INDEX 省略代表直到最後一個字元。\n",
    "*        str[INDEX] 取得 INDEX 的字元  \n",
    "*        str[-INDEX] 取得倒數 INDEX 的字元  \n",
    "*    str[START:END] 從 START 到 END-1 的子字串  \n",
    "*    str[START:END:STEP] 從 START 到 END-1 每隔 STEP 的子字串  "
   ]
  },
  {
   "cell_type": "code",
   "execution_count": 16,
   "metadata": {
    "slideshow": {
     "slide_type": "subslide"
    }
   },
   "outputs": [
    {
     "name": "stdout",
     "output_type": "stream",
     "text": [
      "s[0]= H\n",
      "s[6:12]= Beauty\n",
      "s[6:]= Beauty\n",
      "s[:6]= Hello \n",
      "s[6:-6]= \n",
      "s[-6:]= Beauty\n",
      "s[:]= Hello Beauty\n",
      "s[::2]= HloBat\n",
      "s[0:6:2]= Hlo\n",
      "s[::-1]= ytuaeB olleH\n"
     ]
    }
   ],
   "source": [
    "s = 'Hello Beauty'\n",
    "print(\"s[0]=\",s[0]) # 字串 s 的第 0 個字元，python 使用 0 based 索引\n",
    "print(\"s[6:12]=\",s[6:12]) # 6~11 的子字串 6<=index<12\n",
    "print(\"s[6:]=\",s[6:]) # 6~字串尾端 的子字串\n",
    "print(\"s[:6]=\",s[:6]) # 0～5 子字串\n",
    "print(\"s[6:-6]=\",s[6:-6]) # -6 代表倒數第6位\n",
    "print(\"s[-6:]=\",s[-6:]) # 取得最後 6 位\n",
    "print(\"s[:]=\", s[:])\n",
    "\n",
    "print(\"s[::2]=\",s[::2]) # 從 0 開始間隔 2 個字元\n",
    "print(\"s[0:6:2]=\",s[0:6:2]) # 0~5 間隔 2 個字元\n",
    "print(\"s[::-1]=\",s[::-1]) # 獲得一個倒反的字串\n"
   ]
  },
  {
   "cell_type": "markdown",
   "metadata": {
    "slideshow": {
     "slide_type": "slide"
    }
   },
   "source": [
    "## 格式化輸出\n",
    "\n"
   ]
  },
  {
   "cell_type": "markdown",
   "metadata": {
    "slideshow": {
     "slide_type": "fragment"
    }
   },
   "source": [
    "### 方法 str.format() 的基本用法如下:\n"
   ]
  },
  {
   "cell_type": "code",
   "execution_count": 19,
   "metadata": {
    "slideshow": {
     "slide_type": "fragment"
    }
   },
   "outputs": [
    {
     "name": "stdout",
     "output_type": "stream",
     "text": [
      "We are the knights who say \"Ni!\"\n"
     ]
    }
   ],
   "source": [
    "print('We are the {} who say \"{}!\"'.format('knights', 'Ni'))\n"
   ]
  },
  {
   "cell_type": "markdown",
   "metadata": {
    "slideshow": {
     "slide_type": "subslide"
    }
   },
   "source": [
    "### 大括号和其中的字符会被替换成传入 str.format() 的参数。大括号中的数值指明使用传入 str.format() 方法的对象中的哪一个:\n"
   ]
  },
  {
   "cell_type": "code",
   "execution_count": 21,
   "metadata": {
    "slideshow": {
     "slide_type": "fragment"
    }
   },
   "outputs": [
    {
     "name": "stdout",
     "output_type": "stream",
     "text": [
      "spam and eggs\n",
      "eggs and spam\n"
     ]
    }
   ],
   "source": [
    "print('{0} and {1}'.format('spam', 'eggs'))\n",
    "print('{1} and {0}'.format('spam', 'eggs'))\n"
   ]
  },
  {
   "cell_type": "code",
   "execution_count": 22,
   "metadata": {
    "slideshow": {
     "slide_type": "fragment"
    }
   },
   "outputs": [
    {
     "name": "stdout",
     "output_type": "stream",
     "text": [
      "The value of PI is approximately 3.142.\n"
     ]
    }
   ],
   "source": [
    "import math\n",
    "print('The value of PI is approximately %5.3f.' % math.pi)"
   ]
  },
  {
   "cell_type": "markdown",
   "metadata": {
    "slideshow": {
     "slide_type": "subslide"
    }
   },
   "source": [
    "### 如果在 str.format() 调用时使用关键字参数，可以通过参数名来引用值:\n"
   ]
  },
  {
   "cell_type": "code",
   "execution_count": 23,
   "metadata": {
    "slideshow": {
     "slide_type": "fragment"
    }
   },
   "outputs": [
    {
     "name": "stdout",
     "output_type": "stream",
     "text": [
      "This spam is absolutely horrible.\n"
     ]
    }
   ],
   "source": [
    "print('This {food} is {adjective}.'.format(\n",
    "...      food='spam', adjective='absolutely horrible'))\n"
   ]
  },
  {
   "cell_type": "markdown",
   "metadata": {
    "slideshow": {
     "slide_type": "subslide"
    }
   },
   "source": [
    "### 位置参数和关键字参数可以随意组合:\n"
   ]
  },
  {
   "cell_type": "code",
   "execution_count": 25,
   "metadata": {
    "slideshow": {
     "slide_type": "fragment"
    }
   },
   "outputs": [
    {
     "name": "stdout",
     "output_type": "stream",
     "text": [
      "The story of Bill, Manfred, and Georg.\n"
     ]
    }
   ],
   "source": [
    "print('The story of {0}, {1}, and {other}.'.format('Bill', 'Manfred',\n",
    "                                                       other='Georg'))\n",
    "\n"
   ]
  },
  {
   "cell_type": "markdown",
   "metadata": {
    "slideshow": {
     "slide_type": "subslide"
    }
   },
   "source": [
    "\n",
    "<table class=\"code\">\n",
    "<tbody><tr>\n",
    "<th> Number </th>\n",
    "<th> Format </th>\n",
    "<th> Output </th>\n",
    "<th> Description </th>\n",
    "</tr>\n",
    "<tr>\n",
    "<td> 3.1415926  </td>\n",
    "<td> {:.2f}  </td>\n",
    "<td> 3.14  </td>\n",
    "<td> 2 decimal places </td>\n",
    "</tr>\n",
    "<tr>\n",
    "<td> 3.1415926  </td>\n",
    "<td> {:+.2f} </td>\n",
    "<td> +3.14 </td>\n",
    "<td> 2 decimal places with sign </td>\n",
    "</tr>\n",
    "<tr>\n",
    "<td> -1         </td>\n",
    "<td> {:+.2f} </td>\n",
    "<td> -1.00 </td>\n",
    "<td> 2 decimal places with sign </td>\n",
    "</tr>\n",
    "<tr>\n",
    "<td> 2.71828    </td>\n",
    "<td> {:.0f}  </td>\n",
    "<td> 3   </td>\n",
    "<td> No decimal places </td>\n",
    "</tr>\n",
    "<tr>\n",
    "<td> 5          </td>\n",
    "<td> {:0&gt;2d} </td>\n",
    "<td> 05  </td>\n",
    "<td> Pad number with zeros (left padding, width 2) </td>\n",
    "</tr>\n",
    "<tr>\n",
    "<td> 5          </td>\n",
    "<td> {:x&lt;4d} </td>\n",
    "<td> 5xxx  </td>\n",
    "<td> Pad number with x’s (right padding, width 4) </td>\n",
    "</tr>\n",
    "<tr>\n",
    "<td> 10         </td>\n",
    "<td> {:x&lt;4d} </td>\n",
    "<td> 10xx  </td>\n",
    "<td> Pad number with x’s (right padding, width 4) </td>\n",
    "</tr>\n",
    "<tr>\n",
    "<td> 1000000    </td>\n",
    "<td> {:,}    </td>\n",
    "<td> 1,000,000  </td>\n",
    "<td> Number format with comma separator </td>\n",
    "</tr>\n",
    "<tr>\n",
    "<td> 0.25       </td>\n",
    "<td> {:.2%}  </td>\n",
    "<td> 25.00%  </td>\n",
    "<td> Format percentage </td>\n",
    "</tr>\n",
    "<tr>\n",
    "<td> 1000000000 </td>\n",
    "<td> {:.2e}  </td>\n",
    "<td> 1.00e+09 </td>\n",
    "<td> Exponent notation </td>\n",
    "</tr>\n",
    "<tr>\n",
    "<td> 13         </td>\n",
    "<td> {:10d}  </td>\n",
    "<td> &nbsp;&nbsp;&nbsp;&nbsp;&nbsp;&nbsp;&nbsp;&nbsp;13 </td>\n",
    "<td> Right aligned (default, width 10) </td>\n",
    "</tr>\n",
    "<tr>\n",
    "<td> 13         </td>\n",
    "<td> {:&lt;10d} </td>\n",
    "<td> 13 </td>\n",
    "<td> Left aligned (width 10) </td>\n",
    "</tr>\n",
    "<tr>\n",
    "<td> 13         </td>\n",
    "<td> {:^10d} </td>\n",
    "<td> &nbsp;&nbsp;&nbsp;&nbsp;13 </td>\n",
    "<td> Center aligned (width 10) </td>\n",
    "</tr>\n",
    "</tbody></table>"
   ]
  },
  {
   "cell_type": "markdown",
   "metadata": {
    "slideshow": {
     "slide_type": "subslide"
    }
   },
   "source": [
    "## 進位制的轉換\n",
    "\n",
    "You can use the following letters to convert a number to their bases, decimal, hex, octal, binary\n",
    "\n"
   ]
  },
  {
   "cell_type": "code",
   "execution_count": 44,
   "metadata": {
    "slideshow": {
     "slide_type": "fragment"
    }
   },
   "outputs": [
    {
     "name": "stdout",
     "output_type": "stream",
     "text": [
      "21 - 15 - 25 - 10101 \n"
     ]
    }
   ],
   "source": [
    "print(\"{0:d} - {0:x} - {0:o} - {0:b} \".format(21))"
   ]
  },
  {
   "cell_type": "markdown",
   "metadata": {
    "slideshow": {
     "slide_type": "slide"
    }
   },
   "source": [
    "## Python 容器\n",
    "\n",
    "#### Python 常用的容器型態： list、set、dict、tuple。\n",
    "\n",
    "依據它所使用的括號可以分成：\n",
    "\n",
    "* 小括號：tuple\n",
    "* 中括號：list\n",
    "* 大括號：dict, set\n",
    "\n"
   ]
  },
  {
   "cell_type": "markdown",
   "metadata": {
    "slideshow": {
     "slide_type": "slide"
    }
   },
   "source": [
    "### Tuple () 小括號 -- 元組\n"
   ]
  },
  {
   "cell_type": "code",
   "execution_count": 27,
   "metadata": {
    "slideshow": {
     "slide_type": "fragment"
    }
   },
   "outputs": [
    {
     "name": "stdout",
     "output_type": "stream",
     "text": [
      "(10, 12)\n",
      "<class 'tuple'>\n",
      "<class 'list'>\n",
      "[20, 11]\n"
     ]
    },
    {
     "ename": "TypeError",
     "evalue": "'tuple' object does not support item assignment",
     "output_type": "error",
     "traceback": [
      "\u001b[0;31m---------------------------------------------------------------------------\u001b[0m",
      "\u001b[0;31mTypeError\u001b[0m                                 Traceback (most recent call last)",
      "\u001b[0;32m<ipython-input-27-d5652c63ea46>\u001b[0m in \u001b[0;36m<module>\u001b[0;34m()\u001b[0m\n\u001b[1;32m      8\u001b[0m \u001b[0mprint\u001b[0m\u001b[0;34m(\u001b[0m\u001b[0my\u001b[0m\u001b[0;34m)\u001b[0m\u001b[0;34m\u001b[0m\u001b[0m\n\u001b[1;32m      9\u001b[0m \u001b[0;34m\u001b[0m\u001b[0m\n\u001b[0;32m---> 10\u001b[0;31m \u001b[0mx\u001b[0m\u001b[0;34m[\u001b[0m\u001b[0;36m0\u001b[0m\u001b[0;34m]\u001b[0m \u001b[0;34m=\u001b[0m \u001b[0;36m15\u001b[0m  \u001b[0;31m#無法更改內容\u001b[0m\u001b[0;34m\u001b[0m\u001b[0m\n\u001b[0m",
      "\u001b[0;31mTypeError\u001b[0m: 'tuple' object does not support item assignment"
     ]
    }
   ],
   "source": [
    "x = (10,12) # 用小掛號設定 tuple\n",
    "print(x)\n",
    "x = (10,11)\n",
    "print(type(x))\n",
    "y = list(x) # 轉換成 list\n",
    "print(type(y))\n",
    "y[0] = 20 # list 就可以寫入了。\n",
    "print(y)\n",
    "\n",
    "x[0] = 15  #無法更改內容\n"
   ]
  },
  {
   "cell_type": "markdown",
   "metadata": {
    "slideshow": {
     "slide_type": "slide"
    }
   },
   "source": [
    "### list [] 中括號 -- 串列\n"
   ]
  },
  {
   "cell_type": "code",
   "execution_count": 28,
   "metadata": {
    "slideshow": {
     "slide_type": "fragment"
    }
   },
   "outputs": [
    {
     "name": "stdout",
     "output_type": "stream",
     "text": [
      "['A', 'B', 'C', 'D', 'E']\n",
      "['B', 'B', 'C', 'D', 'E']\n",
      "[1, 2, 3, 4, 5]\n",
      "5\n",
      "['A', 'B', 'C', 'D', 'E', 'F']\n",
      "['A', 'B', 'C', 'D', 'E', 'F', [1, 2, 3]]\n"
     ]
    }
   ],
   "source": [
    "x = [] # 用中括號設定 list\n",
    "slist = ['A','B','C','D','E']\n",
    "print(slist)\n",
    "slist[0] = 'B'\n",
    "print(slist)\n",
    "\n",
    "dlist = [['A','B','C','D','E'] , [1,2,3,4,5]] # 雙重 List\n",
    "print(dlist[1])\n",
    "print(dlist[1][4])\n",
    "\n",
    "slist = ['A','B','C','D','E']\n",
    "slist.append('F') # 在最後增加單一個項目 => append\n",
    "print(slist)\n",
    "slist.append([1,2,3])  \n",
    "print(slist)\n"
   ]
  },
  {
   "cell_type": "code",
   "execution_count": 29,
   "metadata": {
    "slideshow": {
     "slide_type": "subslide"
    }
   },
   "outputs": [
    {
     "name": "stdout",
     "output_type": "stream",
     "text": [
      "['A', 'B', 'C', 'D', 'E', 'F', [1, 2, 3], 'G', 'H', 'I']\n",
      "['A', 'B', 'C', 'D', 'E', 'F', [1, 2, 3], 'G', 'H', 'I', 'J', 'K', 'L']\n",
      "['A', '0', 'B', 'C', 'D', 'E', 'F', [1, 2, 3], 'G', 'H', 'I', 'J', 'K', 'L']\n",
      "['A', '0', 'B', ['3', '4'], 'C', 'D', 'E', 'F', [1, 2, 3], 'G', 'H', 'I', 'J', 'K', 'L']\n",
      "['A', '0', 'a', 'b', 'c']\n"
     ]
    }
   ],
   "source": [
    "slist.extend(['G','H','I']) #在最後增加一個串列 print(slist)\n",
    "print(slist)\n",
    "slist = slist + ['J', 'K', 'L'] #在最後增加一個串列 \n",
    "print(slist)\n",
    "slist.insert(1,'0')  #insert(位置,item) \n",
    "print(slist)\n",
    "slist.insert(3,['3', '4'])  #insert(位置,item) \n",
    "print(slist)\n",
    "slist[2:] = ['a', 'b', 'c'] # 在 slist 2:最後 取代 list\n",
    "plist = ['A','B','C','D','E']\n",
    "print(slist)\n",
    "\n"
   ]
  },
  {
   "cell_type": "code",
   "execution_count": 30,
   "metadata": {
    "slideshow": {
     "slide_type": "subslide"
    }
   },
   "outputs": [
    {
     "name": "stdout",
     "output_type": "stream",
     "text": [
      "['A', 'C', 'D', 'E']\n",
      "['A', 'E']\n",
      "E\n",
      "['A', 'B', 'C', 'D']\n",
      "1\n",
      "True\n",
      "False\n"
     ]
    }
   ],
   "source": [
    "slist = ['A','B','C','D','E']\n",
    "del slist[1] #刪除指定位置項目 => del\n",
    "print(slist)\n",
    "slist[1:3] = [] # 刪除 1~2 的項目\n",
    "print(slist)\n",
    "\n",
    "plist = ['A','B','C','D','E']\n",
    "print(plist.pop()) #預設移出刪除最後一項 = pop(-1) , 若pop(0)則是移出開頭項\n",
    "print(plist)\n",
    "print(plist.index('B'))  #找出項目值的位置 => index 只會找出第一個出現的位置\n",
    "\n",
    "clist = ['A','B','C','D','E']\n",
    "print('B' in clist) # 判斷項目是否存在於list中 => in\n",
    "print('F' in clist)\n",
    "\n"
   ]
  },
  {
   "cell_type": "code",
   "execution_count": 31,
   "metadata": {
    "slideshow": {
     "slide_type": "subslide"
    }
   },
   "outputs": [
    {
     "name": "stdout",
     "output_type": "stream",
     "text": [
      "['D', 'A', 'F', 'C', 'E', 'D']\n",
      "['D', 'A', 'F', 'C', 'E', 'D']\n",
      "['A', 'C', 'D', 'D', 'E', 'F']\n",
      "[1, 2, 3, 3, 4, 23, 98]\n"
     ]
    }
   ],
   "source": [
    "\n",
    "wlist = ['D','A','F','C','E','D']\n",
    "print(wlist)\n",
    "\n",
    "sorted(wlist)\n",
    "print(wlist)\n",
    "\n",
    "wlist = sorted(wlist) # 排序 字典序\n",
    "print(wlist)\n",
    "\n",
    "nlist = [4,23,1,3,2,98,3]\n",
    "print(sorted(nlist)) # 排序\n"
   ]
  },
  {
   "cell_type": "markdown",
   "metadata": {
    "slideshow": {
     "slide_type": "slide"
    }
   },
   "source": [
    "### dict {} 大括號 -- 字典"
   ]
  },
  {
   "cell_type": "code",
   "execution_count": 35,
   "metadata": {
    "slideshow": {
     "slide_type": "subslide"
    }
   },
   "outputs": [
    {
     "name": "stdout",
     "output_type": "stream",
     "text": [
      "d['Name']:  Ronaldo\n",
      "d['Age']:  8\n",
      "d['School']:  高師大附中\n",
      "{'Class': 'First', 'Age': 8, 'Name': 'Ronaldo', 'School': '高師大附中'}\n"
     ]
    }
   ],
   "source": [
    "# 字典 d = {key1 : value1, key2 : value2 }\n",
    "# key 必須是唯一的，value 則不需要\n",
    "# value 可以是任意資料型態， key 則必須是不可變的，如 string, int , tuple\n",
    "\n",
    "d = {} # 建立一個空的 dict\n",
    "d = {1: 'Ronaldo', 3: 7, 5: 'First'}\n",
    "d = {'Name': 'Ronaldo', 'Age': 7, 'Class': 'First'}\n",
    "\n",
    "d['Age'] = 8;               # 更新 Age\n",
    "d['School'] = \"高師大附中\"  # 新增一個 key\n",
    "print (\"d['Name']: \", d['Name'])\n",
    "print (\"d['Age']: \", d['Age'])\n",
    "print (\"d['School']: \", d['School'])\n",
    "print(d)"
   ]
  },
  {
   "cell_type": "code",
   "execution_count": 36,
   "metadata": {
    "slideshow": {
     "slide_type": "subslide"
    }
   },
   "outputs": [
    {
     "name": "stdout",
     "output_type": "stream",
     "text": [
      "{1: 'a', 2: 'b', 3: 'c'}\n",
      "<class 'dict'>\n",
      "d[2]= b\n",
      "{1: 'a', 2: 'b', 3: 'c', 4: 'd'}\n",
      "True\n",
      "False\n",
      "len(d)= 4\n"
     ]
    }
   ],
   "source": [
    "d = {1:\"a\", 2:\"b\", 3:\"c\"}\n",
    "print(d)\n",
    "print(type(d))\n",
    "print(\"d[2]=\", d[2])\n",
    "d[4] = \"d\"\n",
    "print(d)\n",
    "print(3 in d)\n",
    "print(3 not in d)\n",
    "print(\"len(d)=\", len(d))"
   ]
  },
  {
   "cell_type": "code",
   "execution_count": 37,
   "metadata": {
    "slideshow": {
     "slide_type": "subslide"
    }
   },
   "outputs": [
    {
     "name": "stdout",
     "output_type": "stream",
     "text": [
      "{'Class': 'First', 'school': '高師大附中', 'Name': 'Ronaldo', 'addr': '凱旋路'}\n",
      "Ronaldo\n",
      "Ronaldo\n",
      "{'Class': 'First', 'school': '高師大附中', 'addr': '凱旋路'}\n"
     ]
    }
   ],
   "source": [
    "d = {'Name': 'Ronaldo', 'Age': 7, 'Class': 'First', 'school':'高師大附中', 'addr':'凱旋路'}\n",
    "del d['Age']\n",
    "print(d)\n",
    "print(d.get('Name'))\n",
    "print(d.pop('Name'))\n",
    "print(d)"
   ]
  },
  {
   "cell_type": "code",
   "execution_count": 38,
   "metadata": {
    "slideshow": {
     "slide_type": "subslide"
    }
   },
   "outputs": [
    {
     "name": "stdout",
     "output_type": "stream",
     "text": [
      "l1= <class 'list'>\n",
      "l1= ['First', '高師大附中', '凱旋路']\n",
      "l2= <class 'list'>\n",
      "l2= ['Class', 'school', 'addr']\n",
      "sorted(d)= ['Class', 'addr', 'school']\n",
      "{1: 'a', 2: 56, 3: 'xxx', 4: 'yyy', 5: 'zzz'}\n"
     ]
    }
   ],
   "source": [
    "l1 = list(d.values()) # 將 values 轉成 list\n",
    "print(\"l1=\", type(l1))\n",
    "print(\"l1=\", l1)\n",
    "l2 = list(d.keys())  # 將 keys 轉成 list\n",
    "print(\"l2=\", type(l2))\n",
    "print(\"l2=\", l2)\n",
    "print(\"sorted(d)=\",sorted(d)) # 把 keys 變成一個 list 並排序\n",
    "\n",
    "# 合併兩個 dict\n",
    "d1= {1:\"a\", 2:56, 3:\"c\"}\n",
    "d2= {5:\"zzz\", 4:\"yyy\", 3:\"xxx\"}\n",
    "# print(d1+d2) # dict 合併不能使用 + \n",
    "d1.update(d2)\n",
    "print(d1)\n"
   ]
  },
  {
   "cell_type": "markdown",
   "metadata": {
    "slideshow": {
     "slide_type": "slide"
    }
   },
   "source": [
    "## 流程控制\n",
    "\n",
    "if x>60:\n",
    "    print('x=', x)\n",
    "\n",
    "if 條件式1:\n",
    "    敘述1\n",
    "elif 條件式2:\n",
    "    敘述2dfsdf\n",
    "else:\n",
    "    敘述3\n",
    "    "
   ]
  },
  {
   "cell_type": "code",
   "execution_count": 39,
   "metadata": {
    "slideshow": {
     "slide_type": "subslide"
    }
   },
   "outputs": [
    {
     "name": "stdout",
     "output_type": "stream",
     "text": [
      "請輸入狗狗的年齡: 10\n",
      "\n",
      "相當於 62 歲的人\n"
     ]
    }
   ],
   "source": [
    "age = int(input(\"請輸入狗狗的年齡: \"))\n",
    "print(\"\")\n",
    "if age <= 0:\n",
    "    print(\"輸入錯誤!\")\n",
    "elif age == 1:\n",
    "    print(\"相當於 14 歲的人\")\n",
    "elif age == 2:\n",
    "    print(\"相當於 22 歲的人\")\n",
    "elif age > 2:\n",
    "    human = 22 + (age -2)*5\n",
    "    print(\"相當於\",human, \"歲的人\")"
   ]
  },
  {
   "cell_type": "markdown",
   "metadata": {},
   "source": [
    "# import 套件\n",
    "\n",
    "幾種常見的 import 方式：\n",
    "\n",
    "import xxxx  \n",
    "import xxxxxx as xx  \n",
    "from xxx import *  \n"
   ]
  },
  {
   "cell_type": "markdown",
   "metadata": {
    "collapsed": true,
    "slideshow": {
     "slide_type": "slide"
    }
   },
   "source": [
    "## 檔案處理\n",
    "\n",
    "### 創建檔案並寫入資料。"
   ]
  },
  {
   "cell_type": "code",
   "execution_count": 47,
   "metadata": {
    "slideshow": {
     "slide_type": "fragment"
    }
   },
   "outputs": [
    {
     "data": {
      "text/plain": [
       "['A.txt']"
      ]
     },
     "execution_count": 47,
     "metadata": {},
     "output_type": "execute_result"
    }
   ],
   "source": [
    "import os\n",
    "basepath = 'tmp/'\n",
    "\n",
    "# 寫檔案+創建檔案：\n",
    "f = open(basepath+'A.txt', 'w', encoding = 'UTF-8')    # 也可使用指定路徑等方式，如： C:\\A.txt\n",
    "f.write('你好1\\n')\n",
    "f.write('你好2\\n')\n",
    "f.write('你好3\\n')\n",
    "f.close()\n",
    "\n",
    "os.listdir(basepath)"
   ]
  },
  {
   "cell_type": "markdown",
   "metadata": {
    "slideshow": {
     "slide_type": "subslide"
    }
   },
   "source": [
    "### 讀取檔案"
   ]
  },
  {
   "cell_type": "code",
   "execution_count": 48,
   "metadata": {
    "slideshow": {
     "slide_type": "fragment"
    }
   },
   "outputs": [
    {
     "name": "stdout",
     "output_type": "stream",
     "text": [
      "你好1\n",
      "你好2\n",
      "你好3\n"
     ]
    }
   ],
   "source": [
    "basepath = 'tmp/'\n",
    "\n",
    "for i in open(basepath+'A.txt', 'r', encoding='UTF-8'):\n",
    "    print(i,end='')"
   ]
  }
 ],
 "metadata": {
  "celltoolbar": "Slideshow",
  "kernelspec": {
   "display_name": "Python 3",
   "language": "python",
   "name": "python3"
  },
  "language_info": {
   "codemirror_mode": {
    "name": "ipython",
    "version": 3
   },
   "file_extension": ".py",
   "mimetype": "text/x-python",
   "name": "python",
   "nbconvert_exporter": "python",
   "pygments_lexer": "ipython3",
   "version": "3.6.4"
  }
 },
 "nbformat": 4,
 "nbformat_minor": 1
}
